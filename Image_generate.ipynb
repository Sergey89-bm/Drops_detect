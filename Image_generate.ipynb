{
 "cells": [
  {
   "cell_type": "code",
   "execution_count": 1,
   "id": "c4d5c461",
   "metadata": {},
   "outputs": [],
   "source": [
    "import numpy as np\n",
    "import cv2"
   ]
  },
  {
   "cell_type": "code",
   "execution_count": 11,
   "id": "c420d2c1",
   "metadata": {
    "code_folding": []
   },
   "outputs": [],
   "source": [
    "height, width = 128,128\n",
    "for j in range(200):\n",
    "    \n",
    "    #b, g, r = 128, 138, 171  \n",
    "    b, g, r = 0,0,0\n",
    "    image = np.zeros((height, width, 3))\n",
    "    label = np.zeros((height, width, 1))\n",
    "    image[:, :, 0] = b\n",
    "    image[:, :, 1] = g\n",
    "    image[:, :, 2] = r\n",
    "    \n",
    "    for i in range(int(np.random.rand()*10)):\n",
    "        image, label = img_gen_circle(height, width, image, label)\n",
    "\n",
    "    name = str(j)\n",
    "    cv2.imwrite(('./Images/'+name+'.png'), image)\n",
    "    cv2.imwrite(('./Images/labels/'+name+'.png'), label)\n"
   ]
  },
  {
   "cell_type": "code",
   "execution_count": 9,
   "id": "a852895a",
   "metadata": {},
   "outputs": [],
   "source": [
    "def img_gen_circle(height, width, image, label):\n",
    "    x = int(np.random.rand()*width)\n",
    "    y = int(np.random.rand()*height)\n",
    "    d = np.random.rand()*width*0.02\n",
    "    t = int(np.random.rand()+1)\n",
    "    cv2.circle(image, (x,y), int(np.ceil(d)),  (255,255,255), t)\n",
    "    cv2.circle(label, (x,y), 1, (255,255,255), cv2.FILLED)\n",
    "    \n",
    "    return image, label\n",
    "\n",
    "\n"
   ]
  }
 ],
 "metadata": {
  "kernelspec": {
   "display_name": "Python 3 (ipykernel)",
   "language": "python",
   "name": "python3"
  },
  "language_info": {
   "codemirror_mode": {
    "name": "ipython",
    "version": 3
   },
   "file_extension": ".py",
   "mimetype": "text/x-python",
   "name": "python",
   "nbconvert_exporter": "python",
   "pygments_lexer": "ipython3",
   "version": "3.9.7"
  },
  "latex_envs": {
   "LaTeX_envs_menu_present": true,
   "autoclose": false,
   "autocomplete": true,
   "bibliofile": "biblio.bib",
   "cite_by": "apalike",
   "current_citInitial": 1,
   "eqLabelWithNumbers": true,
   "eqNumInitial": 1,
   "hotkeys": {
    "equation": "Ctrl-E",
    "itemize": "Ctrl-I"
   },
   "labels_anchors": false,
   "latex_user_defs": false,
   "report_style_numbering": false,
   "user_envs_cfg": false
  },
  "toc": {
   "base_numbering": 1,
   "nav_menu": {},
   "number_sections": true,
   "sideBar": true,
   "skip_h1_title": false,
   "title_cell": "Table of Contents",
   "title_sidebar": "Contents",
   "toc_cell": false,
   "toc_position": {},
   "toc_section_display": true,
   "toc_window_display": false
  },
  "varInspector": {
   "cols": {
    "lenName": 16,
    "lenType": 16,
    "lenVar": 40
   },
   "kernels_config": {
    "python": {
     "delete_cmd_postfix": "",
     "delete_cmd_prefix": "del ",
     "library": "var_list.py",
     "varRefreshCmd": "print(var_dic_list())"
    },
    "r": {
     "delete_cmd_postfix": ") ",
     "delete_cmd_prefix": "rm(",
     "library": "var_list.r",
     "varRefreshCmd": "cat(var_dic_list()) "
    }
   },
   "types_to_exclude": [
    "module",
    "function",
    "builtin_function_or_method",
    "instance",
    "_Feature"
   ],
   "window_display": false
  }
 },
 "nbformat": 4,
 "nbformat_minor": 5
}
